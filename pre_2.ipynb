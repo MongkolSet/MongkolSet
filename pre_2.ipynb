{
 "cells": [
  {
   "cell_type": "code",
   "execution_count": null,
   "metadata": {},
   "outputs": [],
   "source": [
    "import pandas as pd\n",
    "import numpy as np\n",
    "import matplotlib.pyplot as plt\n",
    "import seaborn as sns"
   ]
  },
  {
   "cell_type": "code",
   "execution_count": null,
   "metadata": {},
   "outputs": [],
   "source": [
    "# Load the data into a Pandas DataFrame\n",
    "df = pd.read_csv(r'C:\\Users\\User\\Downloads\\What_I_have_to_know\\Computer_Sciences\\Data_Structure_and_Programming\\Python\\PDS_Final_Project\\movieDataRemoved3.csv')"
   ]
  },
  {
   "cell_type": "code",
   "execution_count": null,
   "metadata": {},
   "outputs": [],
   "source": [
    "df.columns = df.columns.str.replace(' ', '_')\n",
    "df"
   ]
  },
  {
   "cell_type": "code",
   "execution_count": null,
   "metadata": {},
   "outputs": [],
   "source": [
    "# Replace **** with NaN\n",
    "df.replace('****', np.nan, inplace=True)"
   ]
  },
  {
   "cell_type": "code",
   "execution_count": null,
   "metadata": {},
   "outputs": [],
   "source": [
    "df"
   ]
  },
  {
   "cell_type": "code",
   "execution_count": null,
   "metadata": {},
   "outputs": [],
   "source": []
  },
  {
   "cell_type": "code",
   "execution_count": null,
   "metadata": {},
   "outputs": [],
   "source": [
    "s = [\"1 2002\", \"2123\", \"aws 1900 29\"]\n",
    "s[0].split(' ')[1]"
   ]
  },
  {
   "cell_type": "code",
   "execution_count": null,
   "metadata": {},
   "outputs": [],
   "source": [
    "def clean_year(year):\n",
    "    if \" \" in year: \n",
    "        year = year.split(\" \")[1]\n",
    "    return int(year)\n",
    "\n",
    "\n",
    "cleaned_years = [clean_year(i) for i in s]\n",
    "cleaned_years"
   ]
  },
  {
   "cell_type": "code",
   "execution_count": null,
   "metadata": {},
   "outputs": [],
   "source": [
    "import math\n",
    "def clean_votes(vote):\n",
    "    if isinstance(vote, str) or (isinstance(vote, float) and not math.isnan(vote)) and \",\" in vote:\n",
    "        V = vote.split(\",\")\n",
    "        if len(V) == 1: return int(V[0])\n",
    "        elif len(V) == 2: return int(V[0] + V[1])\n",
    "        else: return int(V[0] + V[1] + V[2])\n",
    "    return None\n"
   ]
  },
  {
   "cell_type": "code",
   "execution_count": null,
   "metadata": {},
   "outputs": [],
   "source": [
    "X = ['123,12,45', '123', '90,32']\n",
    "cleaned_votes = [clean_votes(v) for v in X]\n",
    "cleaned_votes"
   ]
  },
  {
   "cell_type": "code",
   "execution_count": null,
   "metadata": {},
   "outputs": [],
   "source": [
    "df['Votes'] = df['Votes'].apply(clean_votes)"
   ]
  },
  {
   "cell_type": "code",
   "execution_count": null,
   "metadata": {},
   "outputs": [],
   "source": [
    "df"
   ]
  },
  {
   "cell_type": "code",
   "execution_count": null,
   "metadata": {},
   "outputs": [],
   "source": [
    "df['Votes'] = df['Votes'].astype('Int64')\n",
    "df.info()"
   ]
  },
  {
   "cell_type": "code",
   "execution_count": null,
   "metadata": {},
   "outputs": [],
   "source": [
    "df['Meta_Score'] = df['Meta_Score'].astype('Int64')\n",
    "df.info()"
   ]
  },
  {
   "cell_type": "code",
   "execution_count": null,
   "metadata": {},
   "outputs": [],
   "source": [
    "df['Year_of_Release'] = df['Year_of_Release'].apply(clean_year)\n",
    "df"
   ]
  },
  {
   "cell_type": "code",
   "execution_count": null,
   "metadata": {},
   "outputs": [],
   "source": [
    "df.to_csv('df.csv', index=False)"
   ]
  },
  {
   "cell_type": "code",
   "execution_count": null,
   "metadata": {},
   "outputs": [],
   "source": [
    "df['Votes'] = df['Votes'].astype(int)\n",
    "df['Meta_Score'] = df['Meta_Score'].astype(int)\n",
    "\n",
    "df['Gross_Collection($)'] = df['Gross_Collection($)'].astype(float)"
   ]
  },
  {
   "cell_type": "code",
   "execution_count": null,
   "metadata": {},
   "outputs": [],
   "source": [
    "df['Votes'] = df['Votes'].fillna(0).astype(int)\n",
    "df['Meta_Score'] = df['Meta_Score'].fillna(0).astype(int)\n",
    "df['Gross_Collection($)'] = df['Gross_Collection($)'].astype(float)"
   ]
  },
  {
   "cell_type": "code",
   "execution_count": null,
   "metadata": {},
   "outputs": [],
   "source": []
  },
  {
   "cell_type": "code",
   "execution_count": null,
   "metadata": {},
   "outputs": [],
   "source": []
  },
  {
   "cell_type": "code",
   "execution_count": null,
   "metadata": {},
   "outputs": [],
   "source": [
    "missing_matrix = df.isna()\n",
    "# Calculate percentage of missing values for each variable\n",
    "missing_percentages = (missing_matrix.sum() / missing_matrix.count()) * 100\n",
    "\n",
    "missing_percentages"
   ]
  },
  {
   "cell_type": "code",
   "execution_count": null,
   "metadata": {},
   "outputs": [],
   "source": [
    "# select only the rows where the 'Votes' column is not NaN\n",
    "df_no_votes_na = df[df['Votes'].notna()]\n",
    "df_no_votes_na.columns"
   ]
  },
  {
   "cell_type": "code",
   "execution_count": null,
   "metadata": {},
   "outputs": [],
   "source": [
    "df_no_Meta_Score_na = df[df['Meta_Score'].notna()]\n",
    "df_no_Meta_Score_na"
   ]
  },
  {
   "cell_type": "code",
   "execution_count": null,
   "metadata": {},
   "outputs": [],
   "source": [
    "df_no_Gross_Collection_na = df[df['Gross_Collection($)'].notna()]\n",
    "df_no_Gross_Collection_na"
   ]
  },
  {
   "cell_type": "code",
   "execution_count": null,
   "metadata": {},
   "outputs": [],
   "source": [
    "df_no_votes_na.to_csv('votes_removed.csv', index=False)\n",
    "df_no_Meta_Score_na.to_csv('metaScore_removed.csv', index=False)\n",
    "df_no_Gross_Collection_na.to_csv('grossCollection_removed.csv', index=False)"
   ]
  },
  {
   "cell_type": "code",
   "execution_count": null,
   "metadata": {},
   "outputs": [],
   "source": [
    "d1 = df_no_votes_na.equals(df_no_Gross_Collection_na)\n",
    "print(d1)"
   ]
  },
  {
   "cell_type": "code",
   "execution_count": null,
   "metadata": {},
   "outputs": [],
   "source": [
    "d2 = df_no_Gross_Collection_na.equals(df_no_Meta_Score_na)\n",
    "print(d2)"
   ]
  },
  {
   "cell_type": "code",
   "execution_count": null,
   "metadata": {},
   "outputs": [],
   "source": [
    "missing_percentages"
   ]
  },
  {
   "attachments": {},
   "cell_type": "markdown",
   "metadata": {},
   "source": [
    "Finding: "
   ]
  },
  {
   "cell_type": "code",
   "execution_count": null,
   "metadata": {},
   "outputs": [],
   "source": []
  },
  {
   "cell_type": "code",
   "execution_count": null,
   "metadata": {},
   "outputs": [],
   "source": []
  },
  {
   "cell_type": "code",
   "execution_count": null,
   "metadata": {},
   "outputs": [],
   "source": []
  },
  {
   "cell_type": "code",
   "execution_count": null,
   "metadata": {},
   "outputs": [],
   "source": []
  },
  {
   "cell_type": "code",
   "execution_count": null,
   "metadata": {},
   "outputs": [],
   "source": []
  }
 ],
 "metadata": {
  "kernelspec": {
   "display_name": "Python 3",
   "language": "python",
   "name": "python3"
  },
  "language_info": {
   "codemirror_mode": {
    "name": "ipython",
    "version": 3
   },
   "file_extension": ".py",
   "mimetype": "text/x-python",
   "name": "python",
   "nbconvert_exporter": "python",
   "pygments_lexer": "ipython3",
   "version": "3.10.8"
  },
  "orig_nbformat": 4
 },
 "nbformat": 4,
 "nbformat_minor": 2
}
